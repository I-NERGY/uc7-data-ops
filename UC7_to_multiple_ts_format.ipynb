{
 "cells": [
  {
   "cell_type": "code",
   "execution_count": 1,
   "metadata": {},
   "outputs": [],
   "source": [
    "import pandas as pd\n",
    "version = \"5\""
   ]
  },
  {
   "cell_type": "code",
   "execution_count": 2,
   "metadata": {},
   "outputs": [],
   "source": [
    "ts = pd.read_csv(f\"full_data_v{version}.csv\",\n",
    "                     sep=None,\n",
    "                     header=0,\n",
    "                     parse_dates=True,\n",
    "                     engine='python')\n",
    "ts[\"ID\"] = ts[\"tag_name\"]\n",
    "ts[\"Timeseries ID\"] = ts[\"device_id\"]\n",
    "ts[\"Date\"] = ts[\"date\"]\n",
    "ts = ts.drop({\"tag_name\", \"device_id\", \"date\"}, axis=1)\n",
    "ts.to_csv(f\"full_data_correct_cols_v{version}.csv\")"
   ]
  }
 ],
 "metadata": {
  "kernelspec": {
   "display_name": "DeepTSF_env",
   "language": "python",
   "name": "python3"
  },
  "language_info": {
   "codemirror_mode": {
    "name": "ipython",
    "version": 3
   },
   "file_extension": ".py",
   "mimetype": "text/x-python",
   "name": "python",
   "nbconvert_exporter": "python",
   "pygments_lexer": "ipython3",
   "version": "3.10.13"
  }
 },
 "nbformat": 4,
 "nbformat_minor": 2
}
